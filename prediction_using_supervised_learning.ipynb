{
  "nbformat": 4,
  "nbformat_minor": 0,
  "metadata": {
    "colab": {
      "name": "prediction using supervised learning.ipynb",
      "provenance": []
    },
    "kernelspec": {
      "name": "python3",
      "display_name": "Python 3"
    },
    "language_info": {
      "name": "python"
    }
  },
  "cells": [
    {
      "cell_type": "markdown",
      "metadata": {
        "id": "cwNedcJmIiaU"
      },
      "source": [
        "Importing of the libraries"
      ]
    },
    {
      "cell_type": "code",
      "metadata": {
        "id": "QEv9aqHaH1f1"
      },
      "source": [
        "import numpy as np\n",
        "import matplotlib.pyplot as plt\n",
        "import pandas as pd"
      ],
      "execution_count": null,
      "outputs": []
    },
    {
      "cell_type": "markdown",
      "metadata": {
        "id": "iYG9qx3uIhZ8"
      },
      "source": [
        "Importing the data"
      ]
    },
    {
      "cell_type": "code",
      "metadata": {
        "id": "raiiM5RnI88h"
      },
      "source": [
        "url = \"https://raw.githubusercontent.com/AdiPersonalWorks/Random/master/student_scores%20-%20student_scores.csv\"\n",
        "dataset = pd.read_csv(url)\n",
        "\n",
        "x= dataset.iloc[:,:-1].values\n",
        "y= dataset.iloc[:,-1].values\n"
      ],
      "execution_count": null,
      "outputs": []
    },
    {
      "cell_type": "markdown",
      "metadata": {
        "id": "CqTGyV02Ig1i"
      },
      "source": [
        "splitting the data into training set and test set"
      ]
    },
    {
      "cell_type": "code",
      "metadata": {
        "id": "jswWwGEqKz1H"
      },
      "source": [
        "from sklearn.model_selection import train_test_split\n",
        "x_train,x_test,y_train,y_test = train_test_split(x,y,test_size = 0.2, random_state = 0)\n"
      ],
      "execution_count": null,
      "outputs": []
    },
    {
      "cell_type": "markdown",
      "metadata": {
        "id": "cKWfRQOyQYTn"
      },
      "source": [
        "Training the simple regression model on training set"
      ]
    },
    {
      "cell_type": "code",
      "metadata": {
        "colab": {
          "base_uri": "https://localhost:8080/"
        },
        "id": "qERKJ0YIQllB",
        "outputId": "aef7aa5e-2ba0-462c-e197-b28a1e17c2f2"
      },
      "source": [
        "from sklearn.linear_model import LinearRegression\n",
        "regressor = LinearRegression()\n",
        "regressor.fit(x_train,y_train)"
      ],
      "execution_count": null,
      "outputs": [
        {
          "output_type": "execute_result",
          "data": {
            "text/plain": [
              "LinearRegression(copy_X=True, fit_intercept=True, n_jobs=None, normalize=False)"
            ]
          },
          "metadata": {
            "tags": []
          },
          "execution_count": 26
        }
      ]
    },
    {
      "cell_type": "markdown",
      "metadata": {
        "id": "po5h6ebWRABE"
      },
      "source": [
        "predicting test set results"
      ]
    },
    {
      "cell_type": "code",
      "metadata": {
        "id": "2PO1ZvCQRIja"
      },
      "source": [
        "y_pred = regressor.predict(x_test)"
      ],
      "execution_count": null,
      "outputs": []
    },
    {
      "cell_type": "markdown",
      "metadata": {
        "id": "HMk86No2RVVs"
      },
      "source": [
        "Visualising training set results"
      ]
    },
    {
      "cell_type": "code",
      "metadata": {
        "colab": {
          "base_uri": "https://localhost:8080/",
          "height": 295
        },
        "id": "LP4zarBLRUkN",
        "outputId": "af0ddab7-5cd2-427e-9258-a5fd44653aac"
      },
      "source": [
        "plt.scatter(x_train,y_train, color=\"red\")\n",
        "plt.plot(x_train, regressor.predict(x_train))\n",
        "plt.title(\"No. of study hrs vs. marks\")\n",
        "plt.xlabel(\"Study hrs.\")\n",
        "plt.ylabel(\"marks\")\n",
        "plt.show()"
      ],
      "execution_count": null,
      "outputs": [
        {
          "output_type": "display_data",
          "data": {
            "image/png": "[encoded data removed]",
            "text/plain": [
              "<Figure size 432x288 with 1 Axes>"
            ]
          },
          "metadata": {
            "tags": [],
            "needs_background": "light"
          }
        }
      ]
    },
    {
      "cell_type": "markdown",
      "metadata": {
        "id": "Gi8PYaOzS6rb"
      },
      "source": [
        "visualising test set results"
      ]
    },
    {
      "cell_type": "code",
      "metadata": {
        "colab": {
          "base_uri": "https://localhost:8080/",
          "height": 295
        },
        "id": "y6YQaYRATAHa",
        "outputId": "11ac34ea-aa01-4849-f545-27054182ca14"
      },
      "source": [
        "plt.scatter(x_test,y_test, color = \"red\")\n",
        "plt.plot(x_train,regressor.predict(x_train))\n",
        "plt.title(\"no. of study hrs vs. marks\")\n",
        "plt.xlabel(\"study hrs.\")\n",
        "plt.ylabel(\"marks\")\n",
        "plt.show()"
      ],
      "execution_count": null,
      "outputs": [
        {
          "output_type": "display_data",
          "data": {
            "image/png": "[encoded data removed]",
            "text/plain": [
              "<Figure size 432x288 with 1 Axes>"
            ]
          },
          "metadata": {
            "tags": [],
            "needs_background": "light"
          }
        }
      ]
    },
    {
      "cell_type": "markdown",
      "metadata": {
        "id": "7I__dlv1W4BM"
      },
      "source": [
        "comparing actual vs. predicted"
      ]
    },
    {
      "cell_type": "code",
      "metadata": {
        "colab": {
          "base_uri": "https://localhost:8080/",
          "height": 204
        },
        "id": "_Y20z_q0W4f1",
        "outputId": "5ceec31f-4c00-4db7-a582-1c18426b9710"
      },
      "source": [
        "comp= pd.DataFrame({\"actual\":y_test,'predicted':y_pred})\n",
        "comp"
      ],
      "execution_count": null,
      "outputs": [
        {
          "output_type": "execute_result",
          "data": {
            "text/html": [
              "<div>\n",
              "<style scoped>\n",
              "    .dataframe tbody tr th:only-of-type {\n",
              "        vertical-align: middle;\n",
              "    }\n",
              "\n",
              "    .dataframe tbody tr th {\n",
              "        vertical-align: top;\n",
              "    }\n",
              "\n",
              "    .dataframe thead th {\n",
              "        text-align: right;\n",
              "    }\n",
              "</style>\n",
              "<table border=\"1\" class=\"dataframe\">\n",
              "  <thead>\n",
              "    <tr style=\"text-align: right;\">\n",
              "      <th></th>\n",
              "      <th>actual</th>\n",
              "      <th>predicted</th>\n",
              "    </tr>\n",
              "  </thead>\n",
              "  <tbody>\n",
              "    <tr>\n",
              "      <th>0</th>\n",
              "      <td>20</td>\n",
              "      <td>16.884145</td>\n",
              "    </tr>\n",
              "    <tr>\n",
              "      <th>1</th>\n",
              "      <td>27</td>\n",
              "      <td>33.732261</td>\n",
              "    </tr>\n",
              "    <tr>\n",
              "      <th>2</th>\n",
              "      <td>69</td>\n",
              "      <td>75.357018</td>\n",
              "    </tr>\n",
              "    <tr>\n",
              "      <th>3</th>\n",
              "      <td>30</td>\n",
              "      <td>26.794801</td>\n",
              "    </tr>\n",
              "    <tr>\n",
              "      <th>4</th>\n",
              "      <td>62</td>\n",
              "      <td>60.491033</td>\n",
              "    </tr>\n",
              "  </tbody>\n",
              "</table>\n",
              "</div>"
            ],
            "text/plain": [
              "   actual  predicted\n",
              "0      20  16.884145\n",
              "1      27  33.732261\n",
              "2      69  75.357018\n",
              "3      30  26.794801\n",
              "4      62  60.491033"
            ]
          },
          "metadata": {
            "tags": []
          },
          "execution_count": 43
        }
      ]
    },
    {
      "cell_type": "markdown",
      "metadata": {
        "id": "ZweUSVm7T0uE"
      },
      "source": [
        "making prediction"
      ]
    },
    {
      "cell_type": "code",
      "metadata": {
        "colab": {
          "base_uri": "https://localhost:8080/"
        },
        "id": "jOmGcFz2UN_b",
        "outputId": "7928fc0c-49e5-4283-99db-9074d0eb500a"
      },
      "source": [
        "res = regressor.predict([[9.25]])\n",
        "print(\"marks obtained for 9.5 hrs study ={} \".format(res))"
      ],
      "execution_count": null,
      "outputs": [
        {
          "output_type": "stream",
          "text": [
            "marks obtained for 9.5 hrs study =[93.69173249] \n"
          ],
          "name": "stdout"
        }
      ]
    },
    {
      "cell_type": "markdown",
      "metadata": {
        "id": "v7DIK7r8W1hK"
      },
      "source": [
        "Model Evaluation"
      ]
    },
    {
      "cell_type": "code",
      "metadata": {
        "colab": {
          "base_uri": "https://localhost:8080/"
        },
        "id": "FtRM5WYEYOip",
        "outputId": "26827dff-7729-471a-9611-b9afcca9daf8"
      },
      "source": [
        "from sklearn import metrics\n",
        "print(\"mean absolute error:\",metrics.mean_absolute_error(y_test,y_pred))"
      ],
      "execution_count": null,
      "outputs": [
        {
          "output_type": "stream",
          "text": [
            "mean absolute error: 4.183859899002982\n"
          ],
          "name": "stdout"
        }
      ]
    }
  ]
}